{
 "cells": [
  {
   "cell_type": "code",
   "execution_count": 1,
   "metadata": {},
   "outputs": [],
   "source": [
    "import tarfile"
   ]
  },
  {
   "cell_type": "code",
   "execution_count": 2,
   "metadata": {},
   "outputs": [],
   "source": [
    "tf=tarfile.open(\"complete.tar\")\n",
    "tf.extractall(path='C:\\\\Users\\\\yuanoyii\\\\Desktop\\\\tarExtrac\\\\')"
   ]
  },
  {
   "cell_type": "code",
   "execution_count": 3,
   "metadata": {},
   "outputs": [],
   "source": [
    "import gzip,json\n",
    "import shutil\n",
    "\n",
    "extracted=['train','test','dev']\n",
    "for file in extracted:  \n",
    "    with gzip.open('release\\\\'+file+'.jsonl.gz', 'rb') as f_in:\n",
    "        with open('C:\\\\Users\\\\yuanoyii\\\\Desktop\\\\tarExtrac\\\\data\\\\'+file+'.json', 'wb') as f_out:\n",
    "            shutil.copyfileobj(f_in, f_out)"
   ]
  },
  {
   "cell_type": "code",
   "execution_count": 4,
   "metadata": {},
   "outputs": [],
   "source": [
    "path = \"data/train.json\"\n",
    "dataTrain = []\n",
    "\n",
    "with open(path) as f:\n",
    "    for ln in f:\n",
    "        obj = json.loads(ln)\n",
    "        dataTrain.append(obj)"
   ]
  },
  {
   "cell_type": "code",
   "execution_count": 5,
   "metadata": {},
   "outputs": [
    {
     "name": "stdout",
     "output_type": "stream",
     "text": [
      "url\n",
      "archive\n",
      "title\n",
      "date\n",
      "text\n",
      "summary\n",
      "compression\n",
      "coverage\n",
      "density\n",
      "compression_bin\n",
      "coverage_bin\n",
      "density_bin\n"
     ]
    }
   ],
   "source": [
    "for element in dataTrain[1]:\n",
    "    print (element)"
   ]
  },
  {
   "cell_type": "code",
   "execution_count": 6,
   "metadata": {},
   "outputs": [
    {
     "name": "stdout",
     "output_type": "stream",
     "text": [
      "995041\n"
     ]
    }
   ],
   "source": [
    "print(len(dataTrain))"
   ]
  },
  {
   "cell_type": "code",
   "execution_count": 7,
   "metadata": {},
   "outputs": [
    {
     "data": {
      "text/html": [
       "<div>\n",
       "<style scoped>\n",
       "    .dataframe tbody tr th:only-of-type {\n",
       "        vertical-align: middle;\n",
       "    }\n",
       "\n",
       "    .dataframe tbody tr th {\n",
       "        vertical-align: top;\n",
       "    }\n",
       "\n",
       "    .dataframe thead th {\n",
       "        text-align: right;\n",
       "    }\n",
       "</style>\n",
       "<table border=\"1\" class=\"dataframe\">\n",
       "  <thead>\n",
       "    <tr style=\"text-align: right;\">\n",
       "      <th></th>\n",
       "      <th>url</th>\n",
       "      <th>archive</th>\n",
       "      <th>title</th>\n",
       "      <th>date</th>\n",
       "      <th>text</th>\n",
       "      <th>summary</th>\n",
       "      <th>compression</th>\n",
       "      <th>coverage</th>\n",
       "      <th>density</th>\n",
       "      <th>compression_bin</th>\n",
       "      <th>coverage_bin</th>\n",
       "      <th>density_bin</th>\n",
       "    </tr>\n",
       "  </thead>\n",
       "  <tbody>\n",
       "    <tr>\n",
       "      <td>0</td>\n",
       "      <td>http://www.nytimes.com/2006/06/04/sports/socce...</td>\n",
       "      <td>http://web.archive.org/web/20060618204254id_/h...</td>\n",
       "      <td>Surge in Racist Mood Raises Concerns on Eve of...</td>\n",
       "      <td>20060618204254</td>\n",
       "      <td>HAMBURG, Germany, June 3  As he left the socc...</td>\n",
       "      <td>A surge in discriminatory behavior toward blac...</td>\n",
       "      <td>137.470588</td>\n",
       "      <td>1.000000</td>\n",
       "      <td>7.823529</td>\n",
       "      <td>high</td>\n",
       "      <td>high</td>\n",
       "      <td>mixed</td>\n",
       "    </tr>\n",
       "    <tr>\n",
       "      <td>1</td>\n",
       "      <td>http://www.nytimes.com/2005/12/24/politics/24s...</td>\n",
       "      <td>http://web.archive.org/web/20060620043011id_/h...</td>\n",
       "      <td>Spy Agency Mined Vast Data Trove, Officials Re...</td>\n",
       "      <td>20060620043011</td>\n",
       "      <td>WASHINGTON, Dec. 23 - The National Security Ag...</td>\n",
       "      <td>The volume of information harvested, without \\...</td>\n",
       "      <td>33.636364</td>\n",
       "      <td>0.909091</td>\n",
       "      <td>4.727273</td>\n",
       "      <td>medium</td>\n",
       "      <td>medium</td>\n",
       "      <td>mixed</td>\n",
       "    </tr>\n",
       "    <tr>\n",
       "      <td>2</td>\n",
       "      <td>http://www.nytimes.com/2006/04/23/business/you...</td>\n",
       "      <td>http://web.archive.org/web/20060909062911id_/h...</td>\n",
       "      <td>Investors vs. Pfizer: Guess Who Has the Guns?</td>\n",
       "      <td>20060909062911</td>\n",
       "      <td>IF outsized executive pay has indeed become a ...</td>\n",
       "      <td>The battle between Pfizer Inc.'s investors and...</td>\n",
       "      <td>33.880000</td>\n",
       "      <td>1.000000</td>\n",
       "      <td>11.720000</td>\n",
       "      <td>medium</td>\n",
       "      <td>high</td>\n",
       "      <td>extractive</td>\n",
       "    </tr>\n",
       "    <tr>\n",
       "      <td>3</td>\n",
       "      <td>http://www.nydailynews.com/archives/gossip/199...</td>\n",
       "      <td>http://web.archive.org/web/20080313232743id_/h...</td>\n",
       "      <td>REX FLEXED PECS FOR SKIN PICS</td>\n",
       "      <td>20080313232743</td>\n",
       "      <td>BY A.J. BENZA &amp; MICHAEL LEWITTES\\n\\nIf Simon R...</td>\n",
       "      <td>If Simon Rex looks a little familiar, it may n...</td>\n",
       "      <td>11.894118</td>\n",
       "      <td>0.988235</td>\n",
       "      <td>38.988235</td>\n",
       "      <td>low</td>\n",
       "      <td>high</td>\n",
       "      <td>extractive</td>\n",
       "    </tr>\n",
       "    <tr>\n",
       "      <td>4</td>\n",
       "      <td>http://www.nydailynews.com/archives/entertainm...</td>\n",
       "      <td>http://web.archive.org/web/20080314003027id_/h...</td>\n",
       "      <td>POPEYE-WORTHY PIE. PHYLLO DOUGH WRAPS SPINACH ...</td>\n",
       "      <td>20080314003027</td>\n",
       "      <td>Spinach has terrorized generations of veggie-p...</td>\n",
       "      <td>POPEYE-WORTHY PIE. PHYLLO DOUGH WRAPS SPINACH ...</td>\n",
       "      <td>3.932584</td>\n",
       "      <td>0.921348</td>\n",
       "      <td>36.629213</td>\n",
       "      <td>low</td>\n",
       "      <td>medium</td>\n",
       "      <td>extractive</td>\n",
       "    </tr>\n",
       "  </tbody>\n",
       "</table>\n",
       "</div>"
      ],
      "text/plain": [
       "                                                 url  \\\n",
       "0  http://www.nytimes.com/2006/06/04/sports/socce...   \n",
       "1  http://www.nytimes.com/2005/12/24/politics/24s...   \n",
       "2  http://www.nytimes.com/2006/04/23/business/you...   \n",
       "3  http://www.nydailynews.com/archives/gossip/199...   \n",
       "4  http://www.nydailynews.com/archives/entertainm...   \n",
       "\n",
       "                                             archive  \\\n",
       "0  http://web.archive.org/web/20060618204254id_/h...   \n",
       "1  http://web.archive.org/web/20060620043011id_/h...   \n",
       "2  http://web.archive.org/web/20060909062911id_/h...   \n",
       "3  http://web.archive.org/web/20080313232743id_/h...   \n",
       "4  http://web.archive.org/web/20080314003027id_/h...   \n",
       "\n",
       "                                               title            date  \\\n",
       "0  Surge in Racist Mood Raises Concerns on Eve of...  20060618204254   \n",
       "1  Spy Agency Mined Vast Data Trove, Officials Re...  20060620043011   \n",
       "2      Investors vs. Pfizer: Guess Who Has the Guns?  20060909062911   \n",
       "3                      REX FLEXED PECS FOR SKIN PICS  20080313232743   \n",
       "4  POPEYE-WORTHY PIE. PHYLLO DOUGH WRAPS SPINACH ...  20080314003027   \n",
       "\n",
       "                                                text  \\\n",
       "0  HAMBURG, Germany, June 3  As he left the socc...   \n",
       "1  WASHINGTON, Dec. 23 - The National Security Ag...   \n",
       "2  IF outsized executive pay has indeed become a ...   \n",
       "3  BY A.J. BENZA & MICHAEL LEWITTES\\n\\nIf Simon R...   \n",
       "4  Spinach has terrorized generations of veggie-p...   \n",
       "\n",
       "                                             summary  compression  coverage  \\\n",
       "0  A surge in discriminatory behavior toward blac...   137.470588  1.000000   \n",
       "1  The volume of information harvested, without \\...    33.636364  0.909091   \n",
       "2  The battle between Pfizer Inc.'s investors and...    33.880000  1.000000   \n",
       "3  If Simon Rex looks a little familiar, it may n...    11.894118  0.988235   \n",
       "4  POPEYE-WORTHY PIE. PHYLLO DOUGH WRAPS SPINACH ...     3.932584  0.921348   \n",
       "\n",
       "     density compression_bin coverage_bin density_bin  \n",
       "0   7.823529            high         high       mixed  \n",
       "1   4.727273          medium       medium       mixed  \n",
       "2  11.720000          medium         high  extractive  \n",
       "3  38.988235             low         high  extractive  \n",
       "4  36.629213             low       medium  extractive  "
      ]
     },
     "execution_count": 7,
     "metadata": {},
     "output_type": "execute_result"
    }
   ],
   "source": [
    "import pandas as pd\n",
    "data1 =dataTrain\n",
    "df = pd.DataFrame.from_dict(data1, orient='columns')\n",
    "df.head()"
   ]
  },
  {
   "cell_type": "code",
   "execution_count": 8,
   "metadata": {},
   "outputs": [
    {
     "data": {
      "text/plain": [
       "count                 995041\n",
       "unique                971817\n",
       "top       The New York Times\n",
       "freq                    7093\n",
       "Name: title, dtype: object"
      ]
     },
     "execution_count": 8,
     "metadata": {},
     "output_type": "execute_result"
    }
   ],
   "source": [
    "df['title'].describe()"
   ]
  },
  {
   "cell_type": "code",
   "execution_count": 9,
   "metadata": {},
   "outputs": [
    {
     "data": {
      "text/plain": [
       "count     995041\n",
       "unique    980638\n",
       "top          ...\n",
       "freq        1386\n",
       "Name: summary, dtype: object"
      ]
     },
     "execution_count": 9,
     "metadata": {},
     "output_type": "execute_result"
    }
   ],
   "source": [
    "df['summary'].describe()"
   ]
  },
  {
   "cell_type": "code",
   "execution_count": 10,
   "metadata": {},
   "outputs": [
    {
     "data": {
      "text/plain": [
       "count                                                995041\n",
       "unique                                               985482\n",
       "top       Culture Connoisseurs consistently offer though...\n",
       "freq                                                   6358\n",
       "Name: text, dtype: object"
      ]
     },
     "execution_count": 10,
     "metadata": {},
     "output_type": "execute_result"
    }
   ],
   "source": [
    "df['text'].describe()"
   ]
  },
  {
   "cell_type": "code",
   "execution_count": 11,
   "metadata": {},
   "outputs": [
    {
     "name": "stdout",
     "output_type": "stream",
     "text": [
      "HAMBURG, Germany, June 3  As he left the soccer field after a club match in the eastern German city of Halle on March 25, the Nigerian forward Adebowale Ogungbure was spit upon, jeered with racial remarks and mocked with monkey noises. In rebuke, he placed two fingers under his nose to simulate a Hitler mustache and thrust his arm in a Nazi salute.\n",
      "\n",
      "Marc Zoro, right, an Ivory Coast native, was a target of racial slurs from the home fans in Messina, Italy. Adriano, a star with Inter Milan, tried to persuade him to stay on the field.\n",
      "\n",
      "From now until its conclusion on July 9, Jeff Z. Klein and other staff members of The Times and International Herald Tribune will track the world's most popular sporting event.\n",
      "\n",
      "Your guide to the games in Germany: teams, rosters, schedules, statistics, venues and more.\n",
      "\n",
      "In April, the American defender Oguchi Onyewu, playing for his professional club team in Belgium, dismissively gestured toward fans who were making simian chants at him. Then, as he went to throw the ball inbounds, Onyewu said a fan of the opposing team reached over a barrier and punched him in the face.\n",
      "\n",
      "International soccer has been plagued for years by violence among fans, including racial incidents. But FIFA, soccer's Zurich-based world governing body, said there has been a recent surge in discriminatory behavior toward blacks by fans and other players, an escalation that has dovetailed with the signing of more players from Africa and Latin America by elite European clubs.\n",
      "\n",
      "This \"deplorable trend,\" as FIFA has called it, now threatens to embarrass the sport on its grandest stage, the World Cup, which opens June 9 for a monthlong run in 12 cities around Germany. More than 30 billion cumulative television viewers are expected to watch part of the competition and Joseph S. Blatter, FIFA's president, has vowed to crack down on racist behavior during the tournament.\n",
      "\n",
      "Underlining FIFA's concerns, the issue has been included on the agenda at its biannual Congress, scheduled to be held this week in Munich. A campaign against bigotry includes \"Say No to Racism\" stadium banners, television commercials, and team captains making pregame speeches during the quarterfinals of the 32-team tournament.\n",
      "\n",
      "Players, coaches and officials have been threatened with sanctions. But FIFA has said it would not be practical to use the harshest penalties available to punish misbehaving fans  halting matches, holding games in empty stadiums and deducting points that teams receive for victories and ties.\n",
      "\n",
      "Players and antiracism experts said they expected offensive behavior during the tournament, including monkey-like chanting; derisive singing; the hanging of banners that reflect neofascist and racist beliefs; and perhaps the tossing of bananas or banana peels, all familiar occurrences during matches in Spain, Italy, eastern Germany and eastern Europe.\n",
      "\n",
      "\"For us it's quite clear this is a reflection of underlying tensions that exist in European societies,\" said Piara Powar, director of the London-based antiracist soccer organization Kick It Out. He said of Eastern Europe: \"Poverty, unemployment, is a problem. Indigenous people are looking for easy answers to blame. Often newcomers bear the brunt of the blame.\"\n",
      "\n",
      "Yet experts and players also said they believed the racist behavior would be more constrained at the World Cup than it was during play in various domestic leagues around Europe, because of increased security, the international makeup of the crowds, higher ticket prices and a sense that spectators would be generally well behaved on soccer's grandest stage.\n",
      "\n",
      "\"We have to differentiate inside and outside the stadium,\" said Kurt Wachter, project coordinator for the Vienna-based Football Against Racism in Europe, a network of organizations that seeks to fight bigotry and xenophobia in 35 countries.\n",
      "\n",
      "\"Racism is a feature of many football leagues inside and outside Europe,\" said Wachter, who expects most problems to occur outside stadiums where crowds are less controlled. \"We're sure we will see some things we're used to seeing. It won't stop because of the World Cup.\"\n",
      "\n",
      "Particularly worrisome are the possibilities of attacks by extremist groups on spectators and visitors in train stations, bars, restaurants and open areas near the stadiums, Wachter and other experts said. To promote tolerance, he said his organization would organize street soccer matches outside World Cup stadiums.\n",
      "\n",
      "Recent attacks in the eastern Germany city of Potsdam on an Ethiopian-born engineer and in eastern Berlin on a state lawmaker of Turkish descent, along with a government report showing an increase in right-wing violence, have ignited fears that even sporadic hate crimes and other intolerant behavior could mar the World Cup, whose embracing motto is A Time to Make Friends.\n",
      "\n",
      "Far-right extremism is isolated on the fringe of German society, and the German government has intended to confront its Nazi past while preaching openness and tolerance. Germany has one of the world's lowest rates of violent crime. Still, an immigrant group called the Africa Council said it would publish a \"No Go\" guide for nonwhites during the World Cup, particularly for some areas of eastern Berlin and for surrounding towns of the state of Brandenburg.\n",
      "\n",
      "In mid-May, a former government spokesman, Uwe-Karsten Heye, caused a furor when he tried to assist visitors by advising that anyone \"with a different skin color\" avoid visiting small and midsize towns in Brandenburg and elsewhere in eastern Germany, or they \"may not leave with their lives.\"\n",
      "\n",
      "These remarks received blunt criticism from high-ranking German officials. Wolfgang Schäuble, the minister of the interior, said there were no areas in which World Cup visitors should feel threatened, calling Germany \"one of the safest places in the world.\"\n",
      "\n",
      "Angela Merkel, Germany's chancellor, has warned that \"anybody who threatens, attacks or, worse, kills anybody because of the color of his skin or because he comes from another country will face the full force of the law.\"\n",
      "\n",
      "The Bundesliga in Germany is one of the world's top professional soccer leagues, and has not experienced widespread racism. Incidents involving racial abuse of black players are more prevalent in semiprofessional and amateur leagues in eastern Germany. One of the cities playing host to the World Cup, Leipzig, is in the former East Germany. Another, Berlin, was partly in East Germany.\n",
      "\n",
      "After making a Nazi salute, which is illegal in Germany, Ogungbure of Nigeria was investigated by the authorities. But a charge of unconstitutional behavior against him was soon dropped because his gesture had been meant to renounce extremist activity.\n",
      "\n",
      "\"I regret what I did,\" Ogungbure said in a telephone interview from Leipzig. \"I should have walked away. I'm a professional, but I'm a human, too. They don't spit on dogs. Why should they spit on me? I felt like a nobody.\"\n",
      "\n",
      "Gerald Asamoah, a forward on Germany's World Cup team and a native of Ghana, has been recounting an incident in the 1990's when he was pelted with bananas before a club match in Cottbus. \"I'll never forget that,\" he said in a television interview. \"It's like we're not people.\" He has expressed anger and sadness over a banner distributed by a right-wing group that admonished, \"No Gerald, You Are Not Germany.\"\n",
      "\n",
      "Cory Gibbs, an American defender who formerly played professionally in Germany, said there were restaurants and nightclubs in eastern Germany  and even around Hamburg in the west  where he was told \"You're not welcome\" because he was black.\n",
      "\n",
      "\"I think racism is everywhere,\" said Gibbs, who will miss the World Cup because of a knee injury. \"But I feel in Germany racism is a lot more direct.\"\n",
      "\n",
      "Racist behavior at soccer matches is primarily displayed by men and is fueled by several factors, according to experts: alcohol; the perceived \"us versus them\" threat of multiculturalism in societies that were once more ethnically homogenous; the difficult economic transition of eastern European nations since the fall of the Berlin Wall; and crude attempts to unnerve opposing players during bitter, consuming rivalries.\n",
      "\n",
      "Other observers say that the soccer stadium in Europe has become a communal soapbox, one of the few remaining public spaces where spectators can be outrageous and where political correctness does not exist and is even discouraged.\n",
      "\n",
      "\"Nowhere else other than football do people meet someplace and have a stage for shouting things as an anonymous mass,\" said Gerd Dembowski, director of a Berlin-based antiracist organization called Floodlight. \"You can shout things you would never say in your normal life, let out your frustrations.\"\n",
      "\n",
      "Not all the misbehavior can be traced to fans or to Europe. Players and coaches have also been transgressors.\n",
      "\n",
      "Luis Aragonés, Spain's World Cup coach, was fined in 2004 after making racial remarks about the French star Thierry Henry. In March, in the Brazilian league, the defender Antonio Carlos was suspended for 120 days, and 4 additional matches, after an incident in which he shouted \"monkey\" at an opposing player who was black. But it was an incident in Spain on Feb. 25 that galvanized antiracist sentiment and prodded FIFA into taking a tougher stand against bigoted behavior. That match, in Zaragoza, was temporarily halted in the 77th minute by the referee, who threatened to cancel the remaining 13 minutes after Samuel Eto'o, the star forward for Barcelona, was subjected to a chorus of racial taunts. Eto'o threatened to leave the field. His coach and teammates eventually persuaded him to continue, and last month Barcelona won the European Champions Cup.\n",
      "\n",
      "Eto'o has become one of the sport's most outspoken players on the subject of racism. \"I'll continue to play,\" Eto'o, whose national team, Cameroon, did not qualify for the World Cup, said this week through his agent. \"I'm not going to give up and hide and put my head down. I'll score goals against the teams whose fans are making rude noises.\"\n",
      "\n",
      "Under pressure to curb what it acknowledged was an increase in racist incidents, FIFA in late March announced a stricter set of penalties that would apply for club and national team matches. The sanctions would include suspensions of five matches for players and officials who make discriminatory gestures, fines of $16,600 to $25,000 for each offense and two-year stadium bans for offending spectators. It also said teams, which receive 3 points in the standings for a victory, would have 3 points deducted on a first offense by misbehaving players, officials or fans.\n",
      "\n",
      "Blatter, the FIFA president, told reporters that the 3-point deduction for abhorrent fan behavior would apply during the World Cup, then backed away from his comments in April. Blatter declined to comment for this article. And it remains unclear exactly what penalties will be levied against World Cup teams for offensive behavior by fans, coaches and players.\n",
      "\n",
      "Nicolas Maingot, a FIFA spokesman, said World Cup sanctions would be made public later. But in an e-mail response to questions, he said: \"Only racist abuses in the field of play will be punished. For fans, it will be impossible, due to the multinationality of the audience. In other words, it would be impossible to identify from which side would potential racist abusers come.\"\n",
      "\n",
      "Critics counter that spectators are supposed to have their names on their tickets, so identifying offending fans should be relatively easy.\n",
      "\n",
      "Onyewu, the American defender who was punched by an opposing fan in Belgium, said the man was identified through an anonymous tip and was barred from attending matches for two years. He said he did not retaliate because he believed that racist behavior reflected acts of a minority of fans.\n",
      "\n",
      "\"I'm anticipating a more professional environment in Germany because it's the World Cup,\" Onyewu said. Even so, he said, although antiracist efforts could restrict public behavior, \"that's only helping the exterior.\"\n",
      "\n",
      "He added, \"The interior mind thinking, you can't really change that.\"\n"
     ]
    }
   ],
   "source": [
    "article_text=df['text'][0]\n",
    "print(article_text)"
   ]
  },
  {
   "cell_type": "code",
   "execution_count": 12,
   "metadata": {},
   "outputs": [],
   "source": [
    "import re\n",
    "# Removing Square Brackets and Extra Spaces\n",
    "article_text = re.sub(r'\\[[0-9]*\\]', ' ', article_text)\n",
    "article_text = re.sub(r'\\s+', ' ', article_text)"
   ]
  },
  {
   "cell_type": "code",
   "execution_count": 13,
   "metadata": {},
   "outputs": [],
   "source": [
    "# Removing special characters and digits\n",
    "formatted_article_text = re.sub('[^a-zA-Z]', ' ', article_text )\n",
    "formatted_article_text = re.sub(r'\\s+', ' ', formatted_article_text)"
   ]
  },
  {
   "cell_type": "code",
   "execution_count": 14,
   "metadata": {},
   "outputs": [
    {
     "name": "stdout",
     "output_type": "stream",
     "text": [
      "HAMBURG Germany June As he left the soccer field after a club match in the eastern German city of Halle on March the Nigerian forward Adebowale Ogungbure was spit upon jeered with racial remarks and mocked with monkey noises In rebuke he placed two fingers under his nose to simulate a Hitler mustache and thrust his arm in a Nazi salute Marc Zoro right an Ivory Coast native was a target of racial slurs from the home fans in Messina Italy Adriano a star with Inter Milan tried to persuade him to stay on the field From now until its conclusion on July Jeff Z Klein and other staff members of The Times and International Herald Tribune will track the world s most popular sporting event Your guide to the games in Germany teams rosters schedules statistics venues and more In April the American defender Oguchi Onyewu playing for his professional club team in Belgium dismissively gestured toward fans who were making simian chants at him Then as he went to throw the ball inbounds Onyewu said a fan of the opposing team reached over a barrier and punched him in the face International soccer has been plagued for years by violence among fans including racial incidents But FIFA soccer s Zurich based world governing body said there has been a recent surge in discriminatory behavior toward blacks by fans and other players an escalation that has dovetailed with the signing of more players from Africa and Latin America by elite European clubs This deplorable trend as FIFA has called it now threatens to embarrass the sport on its grandest stage the World Cup which opens June for a monthlong run in cities around Germany More than billion cumulative television viewers are expected to watch part of the competition and Joseph S Blatter FIFA s president has vowed to crack down on racist behavior during the tournament Underlining FIFA s concerns the issue has been included on the agenda at its biannual Congress scheduled to be held this week in Munich A campaign against bigotry includes Say No to Racism stadium banners television commercials and team captains making pregame speeches during the quarterfinals of the team tournament Players coaches and officials have been threatened with sanctions But FIFA has said it would not be practical to use the harshest penalties available to punish misbehaving fans halting matches holding games in empty stadiums and deducting points that teams receive for victories and ties Players and antiracism experts said they expected offensive behavior during the tournament including monkey like chanting derisive singing the hanging of banners that reflect neofascist and racist beliefs and perhaps the tossing of bananas or banana peels all familiar occurrences during matches in Spain Italy eastern Germany and eastern Europe For us it s quite clear this is a reflection of underlying tensions that exist in European societies said Piara Powar director of the London based antiracist soccer organization Kick It Out He said of Eastern Europe Poverty unemployment is a problem Indigenous people are looking for easy answers to blame Often newcomers bear the brunt of the blame Yet experts and players also said they believed the racist behavior would be more constrained at the World Cup than it was during play in various domestic leagues around Europe because of increased security the international makeup of the crowds higher ticket prices and a sense that spectators would be generally well behaved on soccer s grandest stage We have to differentiate inside and outside the stadium said Kurt Wachter project coordinator for the Vienna based Football Against Racism in Europe a network of organizations that seeks to fight bigotry and xenophobia in countries Racism is a feature of many football leagues inside and outside Europe said Wachter who expects most problems to occur outside stadiums where crowds are less controlled We re sure we will see some things we re used to seeing It won t stop because of the World Cup Particularly worrisome are the possibilities of attacks by extremist groups on spectators and visitors in train stations bars restaurants and open areas near the stadiums Wachter and other experts said To promote tolerance he said his organization would organize street soccer matches outside World Cup stadiums Recent attacks in the eastern Germany city of Potsdam on an Ethiopian born engineer and in eastern Berlin on a state lawmaker of Turkish descent along with a government report showing an increase in right wing violence have ignited fears that even sporadic hate crimes and other intolerant behavior could mar the World Cup whose embracing motto is A Time to Make Friends Far right extremism is isolated on the fringe of German society and the German government has intended to confront its Nazi past while preaching openness and tolerance Germany has one of the world s lowest rates of violent crime Still an immigrant group called the Africa Council said it would publish a No Go guide for nonwhites during the World Cup particularly for some areas of eastern Berlin and for surrounding towns of the state of Brandenburg In mid May a former government spokesman Uwe Karsten Heye caused a furor when he tried to assist visitors by advising that anyone with a different skin color avoid visiting small and midsize towns in Brandenburg and elsewhere in eastern Germany or they may not leave with their lives These remarks received blunt criticism from high ranking German officials Wolfgang Sch uble the minister of the interior said there were no areas in which World Cup visitors should feel threatened calling Germany one of the safest places in the world Angela Merkel Germany s chancellor has warned that anybody who threatens attacks or worse kills anybody because of the color of his skin or because he comes from another country will face the full force of the law The Bundesliga in Germany is one of the world s top professional soccer leagues and has not experienced widespread racism Incidents involving racial abuse of black players are more prevalent in semiprofessional and amateur leagues in eastern Germany One of the cities playing host to the World Cup Leipzig is in the former East Germany Another Berlin was partly in East Germany After making a Nazi salute which is illegal in Germany Ogungbure of Nigeria was investigated by the authorities But a charge of unconstitutional behavior against him was soon dropped because his gesture had been meant to renounce extremist activity I regret what I did Ogungbure said in a telephone interview from Leipzig I should have walked away I m a professional but I m a human too They don t spit on dogs Why should they spit on me I felt like a nobody Gerald Asamoah a forward on Germany s World Cup team and a native of Ghana has been recounting an incident in the s when he was pelted with bananas before a club match in Cottbus I ll never forget that he said in a television interview It s like we re not people He has expressed anger and sadness over a banner distributed by a right wing group that admonished No Gerald You Are Not Germany Cory Gibbs an American defender who formerly played professionally in Germany said there were restaurants and nightclubs in eastern Germany and even around Hamburg in the west where he was told You re not welcome because he was black I think racism is everywhere said Gibbs who will miss the World Cup because of a knee injury But I feel in Germany racism is a lot more direct Racist behavior at soccer matches is primarily displayed by men and is fueled by several factors according to experts alcohol the perceived us versus them threat of multiculturalism in societies that were once more ethnically homogenous the difficult economic transition of eastern European nations since the fall of the Berlin Wall and crude attempts to unnerve opposing players during bitter consuming rivalries Other observers say that the soccer stadium in Europe has become a communal soapbox one of the few remaining public spaces where spectators can be outrageous and where political correctness does not exist and is even discouraged Nowhere else other than football do people meet someplace and have a stage for shouting things as an anonymous mass said Gerd Dembowski director of a Berlin based antiracist organization called Floodlight You can shout things you would never say in your normal life let out your frustrations Not all the misbehavior can be traced to fans or to Europe Players and coaches have also been transgressors Luis Aragon s Spain s World Cup coach was fined in after making racial remarks about the French star Thierry Henry In March in the Brazilian league the defender Antonio Carlos was suspended for days and additional matches after an incident in which he shouted monkey at an opposing player who was black But it was an incident in Spain on Feb that galvanized antiracist sentiment and prodded FIFA into taking a tougher stand against bigoted behavior That match in Zaragoza was temporarily halted in the th minute by the referee who threatened to cancel the remaining minutes after Samuel Eto o the star forward for Barcelona was subjected to a chorus of racial taunts Eto o threatened to leave the field His coach and teammates eventually persuaded him to continue and last month Barcelona won the European Champions Cup Eto o has become one of the sport s most outspoken players on the subject of racism I ll continue to play Eto o whose national team Cameroon did not qualify for the World Cup said this week through his agent I m not going to give up and hide and put my head down I ll score goals against the teams whose fans are making rude noises Under pressure to curb what it acknowledged was an increase in racist incidents FIFA in late March announced a stricter set of penalties that would apply for club and national team matches The sanctions would include suspensions of five matches for players and officials who make discriminatory gestures fines of to for each offense and two year stadium bans for offending spectators It also said teams which receive points in the standings for a victory would have points deducted on a first offense by misbehaving players officials or fans Blatter the FIFA president told reporters that the point deduction for abhorrent fan behavior would apply during the World Cup then backed away from his comments in April Blatter declined to comment for this article And it remains unclear exactly what penalties will be levied against World Cup teams for offensive behavior by fans coaches and players Nicolas Maingot a FIFA spokesman said World Cup sanctions would be made public later But in an e mail response to questions he said Only racist abuses in the field of play will be punished For fans it will be impossible due to the multinationality of the audience In other words it would be impossible to identify from which side would potential racist abusers come Critics counter that spectators are supposed to have their names on their tickets so identifying offending fans should be relatively easy Onyewu the American defender who was punched by an opposing fan in Belgium said the man was identified through an anonymous tip and was barred from attending matches for two years He said he did not retaliate because he believed that racist behavior reflected acts of a minority of fans I m anticipating a more professional environment in Germany because it s the World Cup Onyewu said Even so he said although antiracist efforts could restrict public behavior that s only helping the exterior He added The interior mind thinking you can t really change that \n"
     ]
    }
   ],
   "source": [
    "print(formatted_article_text)"
   ]
  },
  {
   "cell_type": "code",
   "execution_count": null,
   "metadata": {},
   "outputs": [],
   "source": []
  }
 ],
 "metadata": {
  "kernelspec": {
   "display_name": "Python 3",
   "language": "python",
   "name": "python3"
  },
  "language_info": {
   "codemirror_mode": {
    "name": "ipython",
    "version": 3
   },
   "file_extension": ".py",
   "mimetype": "text/x-python",
   "name": "python",
   "nbconvert_exporter": "python",
   "pygments_lexer": "ipython3",
   "version": "3.7.3"
  }
 },
 "nbformat": 4,
 "nbformat_minor": 2
}
